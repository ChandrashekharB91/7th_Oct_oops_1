{
 "cells": [
  {
   "cell_type": "code",
   "execution_count": 9,
   "id": "550d4158-96a5-4519-bb3c-032e427a4dbd",
   "metadata": {
    "tags": []
   },
   "outputs": [],
   "source": [
    "import logging\n",
    "import numpy\n",
    "import json\n",
    "import time\n",
    "from datetime import datetime\n",
    "import math"
   ]
  },
  {
   "cell_type": "markdown",
   "id": "0e411e2c-0fd1-4a35-8018-046e8d8b5f70",
   "metadata": {},
   "source": [
    "Problem 1: Bank Account Create a class representing a bank account with attributes like account number, account holder name, and balance. Implement methods to deposit and withdraw money from the account."
   ]
  },
  {
   "cell_type": "code",
   "execution_count": 2,
   "id": "4e7bafdf-c0ec-4be9-a7f5-7383bcb624ff",
   "metadata": {
    "tags": []
   },
   "outputs": [
    {
     "name": "stdout",
     "output_type": "stream",
     "text": [
      "Welcome to xyz bank\n"
     ]
    },
    {
     "name": "stdin",
     "output_type": "stream",
     "text": [
      "Enter your account number:  12345\n",
      "Enter your username:  kiran_kale\n",
      "Enter your password:  Kiran@1234\n"
     ]
    },
    {
     "name": "stdout",
     "output_type": "stream",
     "text": [
      "Login Successful!\n",
      "\n",
      "Options:\n",
      "1. Check Balance\n",
      "2. Deposit\n",
      "3. Withdrawal\n",
      "4. Exit\n"
     ]
    },
    {
     "name": "stdin",
     "output_type": "stream",
     "text": [
      "Enter your choice (1-4):  1\n"
     ]
    },
    {
     "name": "stdout",
     "output_type": "stream",
     "text": [
      "The balance in your account is 1000\n",
      "\n",
      "Options:\n",
      "1. Check Balance\n",
      "2. Deposit\n",
      "3. Withdrawal\n",
      "4. Exit\n"
     ]
    },
    {
     "name": "stdin",
     "output_type": "stream",
     "text": [
      "Enter your choice (1-4):  2\n",
      "Enter the amount to deposit:  500\n"
     ]
    },
    {
     "name": "stdout",
     "output_type": "stream",
     "text": [
      "The amount deposited in your account is $500. The balance is now $1500\n",
      "\n",
      "Options:\n",
      "1. Check Balance\n",
      "2. Deposit\n",
      "3. Withdrawal\n",
      "4. Exit\n"
     ]
    },
    {
     "name": "stdin",
     "output_type": "stream",
     "text": [
      "Enter your choice (1-4):  3\n",
      "Enter the amount to withdraw:  200\n"
     ]
    },
    {
     "name": "stdout",
     "output_type": "stream",
     "text": [
      "The amount withdrawn from your account is $200. The balance is now $1300\n",
      "\n",
      "Options:\n",
      "1. Check Balance\n",
      "2. Deposit\n",
      "3. Withdrawal\n",
      "4. Exit\n"
     ]
    },
    {
     "name": "stdin",
     "output_type": "stream",
     "text": [
      "Enter your choice (1-4):  4\n"
     ]
    }
   ],
   "source": [
    "logging.basicConfig(filename=\"acc_details.log\", level=logging.DEBUG, format=\"%(asctime)s-%(levelname)s-%(message)s\")\n",
    "logging.info(\"Welcome to xyz bank\")\n",
    "print(\"Welcome to xyz bank\")\n",
    "\n",
    "class BankAccount:\n",
    "    LOCK_DURATION = 24  # Lock duration in hours\n",
    "\n",
    "    def __init__(self, name, account_number, username, password, balance):\n",
    "        self.name = name\n",
    "        self.account_number = account_number\n",
    "        self.username = username\n",
    "        self.password = password\n",
    "        self.balance = balance\n",
    "        self.locked_until = None\n",
    "        self.logged_in = False  # Added flag to track login status\n",
    "\n",
    "    @classmethod\n",
    "    def from_json(cls, json_file):\n",
    "        accounts = []\n",
    "        with open(json_file, 'r') as file:\n",
    "            data = json.load(file)\n",
    "            for entry in data:\n",
    "                if isinstance(entry, dict):  # Check if entry is a dictionary\n",
    "                    account = cls(**entry)  # Using dictionary unpacking\n",
    "                    accounts.append(account)\n",
    "                else:\n",
    "                    logging.warning(f\"Skipping invalid entry in JSON data: {entry}\")\n",
    "        return accounts\n",
    "\n",
    "    def login(self):\n",
    "        if self.locked_until and datetime.now() < self.locked_until:\n",
    "            print(\"Account is locked. Please try again later.\")\n",
    "            return False\n",
    "\n",
    "        attempts_left = 3\n",
    "        while attempts_left > 0:\n",
    "            account_number = input(\"Enter your account number: \")\n",
    "            username = input(\"Enter your username: \")\n",
    "            password = input(\"Enter your password: \")\n",
    "\n",
    "            if (\n",
    "                    account_number == str(self.account_number)\n",
    "                    and username == self.username\n",
    "                    and password == self.password\n",
    "            ):\n",
    "                print(\"Login Successful!\")\n",
    "                logging.info(f\"Logging in successful by the user {username}\")\n",
    "                self.logged_in = True  # Set the login flag to True\n",
    "                return True\n",
    "            else:\n",
    "                attempts_left -= 1\n",
    "                print(f\"Invalid credentials. {attempts_left} attempts left.\")\n",
    "\n",
    "        self.locked_until = datetime.now() + timedelta(hours=self.LOCK_DURATION)\n",
    "        print(f\"Account locked for {self.LOCK_DURATION} hours. Please try again later.\")\n",
    "        logging.error(f\"Max attempts reached. Account is locked for 24 hours for the user {username}\")\n",
    "        return False\n",
    "\n",
    "    def check_balance(self):\n",
    "        try:\n",
    "            if self.logged_in:  # Check the login flag\n",
    "                logging.info(f\"{self.username} is checking balance\")\n",
    "                return f\"The balance in your account is {self.balance}\"\n",
    "            else:\n",
    "                print(\"Not logged in. Please log in again\")\n",
    "                logging.error(f\"user {self.username} is not logged in but tried to check balance\")\n",
    "        except Exception as e:\n",
    "            print(e)\n",
    "\n",
    "    def deposit(self):\n",
    "        try:\n",
    "            if self.logged_in:  # Check the login flag\n",
    "                dep_amount = int(input(\"Enter the amount to deposit: \"))\n",
    "                self.balance += dep_amount\n",
    "                logging.info(f\"{self.username} deposited ${dep_amount} successfully\")\n",
    "                return f\"The amount deposited in your account is ${dep_amount}. The balance is now ${self.balance}\"\n",
    "            else:\n",
    "                print(\"Not logged in. Please log in again\")\n",
    "                logging.error(f\"user {self.username} is not logged in but tried to deposit\")\n",
    "        except Exception as e:\n",
    "            print(e)\n",
    "\n",
    "    def withdrawal(self):\n",
    "        try:\n",
    "            if self.logged_in:  # Check the login flag\n",
    "                withdraw_amount = int(input(\"Enter the amount to withdraw: \"))\n",
    "                if withdraw_amount <= self.balance:\n",
    "                    self.balance -= withdraw_amount\n",
    "                    logging.info(f\"{self.username} withdrew ${withdraw_amount} successfully\")\n",
    "                    return f\"The amount withdrawn from your account is ${withdraw_amount}. The balance is now ${self.balance}\"\n",
    "                else:\n",
    "                    print(\"Insufficient funds. Withdrawal failed.\")\n",
    "                    logging.error(f\"{self.username} tried to withdraw more than the available balance\")\n",
    "            else:\n",
    "                print(\"Not logged in. Please log in again\")\n",
    "                logging.error(f\"user {self.username} is not logged in but tried to withdraw\")\n",
    "        except Exception as e:\n",
    "            print(e)\n",
    "            \n",
    "    def show_menu(self):\n",
    "        print(\"\\nOptions:\")\n",
    "        print(\"1. Check Balance\")\n",
    "        print(\"2. Deposit\")\n",
    "        print(\"3. Withdrawal\")\n",
    "        print(\"4. Exit\")\n",
    "\n",
    "    def perform_transaction(self, choice):\n",
    "        if choice == '1':\n",
    "            print(self.check_balance())\n",
    "        elif choice == '2':\n",
    "            print(self.deposit())\n",
    "        elif choice == '3':\n",
    "            print(self.withdrawal())\n",
    "        elif choice == '4':\n",
    "            print(\"Exiting...\")\n",
    "        else:\n",
    "            print(\"Invalid choice. Please choose a valid option.\")\n",
    "\n",
    "    def simulate_banking(self):\n",
    "        if self.login():  # Check login status before entering the loop\n",
    "            while True:\n",
    "                self.show_menu()\n",
    "                choice = input(\"Enter your choice (1-4): \")\n",
    "                if choice == '4':\n",
    "                    break  # Exit the loop if the user chooses to exit\n",
    "                self.perform_transaction(choice)\n",
    "\n",
    "\n",
    "json_file = \"accounts.json\"\n",
    "try:\n",
    "    bank_accounts = BankAccount.from_json(json_file)\n",
    "    if not bank_accounts:\n",
    "        print(\"No valid accounts found in the JSON file.\")\n",
    "    else:\n",
    "        user_account = bank_accounts[0]\n",
    "\n",
    "        # Example of logging in\n",
    "        user_account.simulate_banking()\n",
    "\n",
    "except Exception as e:\n",
    "    print(f\"An error occurred: {e}\")"
   ]
  },
  {
   "cell_type": "markdown",
   "id": "78ae3049-ff04-4e0d-a91e-acb6e4c5d90f",
   "metadata": {},
   "source": [
    "Problem 2: Employee Management Create a class representing an employee with attributes like employee ID, name, and salary. Implement methods to calculate the yearly bonus and display employee details."
   ]
  },
  {
   "cell_type": "code",
   "execution_count": 12,
   "id": "7f11bf6a-388e-46b8-80d1-bab8d4f88be3",
   "metadata": {
    "tags": []
   },
   "outputs": [
    {
     "name": "stdout",
     "output_type": "stream",
     "text": [
      "Welcome to employee management system!!\n",
      "\n",
      "Yearly Bonus: $5000.00\n",
      "Employee ID: E1594\n",
      "Name: Chandrashekhar Bagul\n",
      "Salary: 50000\n"
     ]
    }
   ],
   "source": [
    "logging.basicConfig(filename=\"emp_management.log\", level=logging.DEBUG, format=\"%(asctime)s-%(levelname)s-%(message)s\")\n",
    "logging.info(\"Welcome to employee management system!!\")\n",
    "print(\"Welcome to employee management system!!\")\n",
    "\n",
    "class Employee:\n",
    "    \n",
    "    def __init__(self, employee_id, name, salary):\n",
    "        self.employee_id = employee_id\n",
    "        self.name = name\n",
    "        self.salary = salary\n",
    "        \n",
    "    def calculate_yearly_bonus(self, bonus_percentage):\n",
    "        bonus = (bonus_percentage / 100) * self.salary\n",
    "        return bonus\n",
    "    \n",
    "    def display_employee_details(self):\n",
    "        details = f\"Employee ID: {self.employee_id}\\nName: {self.name}\\nSalary: {self.salary}\"\n",
    "        return details\n",
    "\n",
    "\n",
    "employee_id = \"E1594\"\n",
    "name = \"Chandrashekhar Bagul\"\n",
    "salary = 50000\n",
    "\n",
    "employee1 = Employee(employee_id, name, salary)\n",
    "\n",
    "\n",
    "bonus_percentage = 10\n",
    "yearly_bonus = employee1.calculate_yearly_bonus(bonus_percentage)\n",
    "\n",
    "employee_details = employee1.display_employee_details()\n",
    "\n",
    "print(f\"\\nYearly Bonus: ${yearly_bonus:.2f}\")\n",
    "print(employee_details)"
   ]
  },
  {
   "cell_type": "markdown",
   "id": "d913531c-af20-4469-8ab5-4a6036428c41",
   "metadata": {},
   "source": [
    "Problem 3: Vehicle Rental Create a class representing a vehicle rental system. Implement methods to rent a vehicle, return a vehicle, and display available vehicles."
   ]
  },
  {
   "cell_type": "code",
   "execution_count": 13,
   "id": "0cbc68fb-f099-4ccf-be02-f55b91ab785b",
   "metadata": {
    "tags": []
   },
   "outputs": [],
   "source": [
    "vehicle_list = ['Audi','BMW','Honda','Hyundai','Jaguar','Kia','Land_cruiser','Land_rover','Mercedes','Renault','Suzuki','Tata','Toyota','Mahindra']"
   ]
  },
  {
   "cell_type": "code",
   "execution_count": 14,
   "id": "460a08e3-47ef-4b29-b0bc-4bc0dace47ed",
   "metadata": {
    "tags": []
   },
   "outputs": [],
   "source": [
    "class VehicleRental:\n",
    "    def __init__(self):\n",
    "        self.vehicle_list = ['Audi', 'BMW', 'Honda', 'Hyundai', 'Jaguar', 'Kia', 'Land_cruiser', 'Land_rover',\n",
    "                             'Mercedes', 'Renault', 'Suzuki', 'Tata', 'Toyota', 'Mahindra']\n",
    "        self.selected_vehicle = None\n",
    "\n",
    "    def display_vehicles_available(self):\n",
    "        return f\"\"\"The vehicle brands available to rent are: {', '.join(self.vehicle_list)} in 'SUV', 'sedan', and 'hatchback' segments.\"\"\"\n",
    "\n",
    "    def select_vehicle(self):\n",
    "        vehicle = input(\"Enter the vehicle brand you want to rent: \")\n",
    "        try:\n",
    "            if vehicle in self.vehicle_list:\n",
    "                self.selected_vehicle = vehicle\n",
    "                print(\"Vehicle is available to rent, please proceed to rent a vehicle.\")\n",
    "            else:\n",
    "                print(\"The vehicle brand entered is not available, please enter from the list.\")\n",
    "        except Exception as e:\n",
    "            print(e)\n",
    "\n",
    "    def rent_cars(self):\n",
    "        if self.selected_vehicle:\n",
    "            print(\"Vehicles are available in SUV, sedan, and hatchback segments.\")\n",
    "            vehicle_type = input(\"Please enter the vehicle type you want to rent: \")\n",
    "            if self.selected_vehicle in ['Audi', 'BMW', 'Jaguar', 'Land_cruiser', 'Land_rover', 'Mercedes']:\n",
    "                if vehicle_type == 'SUV':\n",
    "                    return f\"The vehicle selected is {self.selected_vehicle} in {vehicle_type} segment and rent is $50 plus $2/mile.\"\n",
    "                elif vehicle_type == 'sedan':\n",
    "                    return f\"The vehicle selected is {self.selected_vehicle} in {vehicle_type} segment and rent is $40 plus $2/mile.\"\n",
    "                elif vehicle_type == 'hatchback':\n",
    "                    return f\"The vehicle selected is {self.selected_vehicle} in {vehicle_type} segment and rent is $35 plus $1/mile.\"\n",
    "            elif self.selected_vehicle in ['Honda', 'Hyundai', 'Kia', 'Renault', 'Suzuki', 'Tata', 'Toyota', 'Mahindra']:\n",
    "                if vehicle_type == 'SUV':\n",
    "                    return f\"The vehicle selected is {self.selected_vehicle} in {vehicle_type} segment and rent is $40 plus $1.5/mile.\"\n",
    "                elif vehicle_type == 'sedan':\n",
    "                    return f\"The vehicle selected is {self.selected_vehicle} in {vehicle_type} segment and rent is $30 plus $1/mile.\"\n",
    "                elif vehicle_type == 'hatchback':\n",
    "                    return f\"The vehicle selected is {self.selected_vehicle} in {vehicle_type} segment and rent is $20 plus $1/mile.\"\n",
    "            else:\n",
    "                print(\"Please select the vehicle type from the list.\")\n",
    "        else:\n",
    "            print(\"Please select a vehicle to rent from the list.\")\n",
    "\n",
    "    def return_cars(self):\n",
    "        if self.selected_vehicle:\n",
    "            print(\"You can return the vehicle.\")\n",
    "        else:\n",
    "            print(\"Please select the vehicle from the list.\")"
   ]
  },
  {
   "cell_type": "code",
   "execution_count": 15,
   "id": "fed14e2b-bbfa-4fd6-b7da-114546657bb2",
   "metadata": {
    "tags": []
   },
   "outputs": [],
   "source": [
    "rent_car = VehicleRental()"
   ]
  },
  {
   "cell_type": "code",
   "execution_count": 16,
   "id": "5e295d9f-d418-4abd-83d2-9cadd9aa877d",
   "metadata": {
    "tags": []
   },
   "outputs": [
    {
     "data": {
      "text/plain": [
       "\"The vehicle brands available to rent are: Audi, BMW, Honda, Hyundai, Jaguar, Kia, Land_cruiser, Land_rover, Mercedes, Renault, Suzuki, Tata, Toyota, Mahindra in 'SUV', 'sedan', and 'hatchback' segments.\""
      ]
     },
     "execution_count": 16,
     "metadata": {},
     "output_type": "execute_result"
    }
   ],
   "source": [
    "rent_car.display_vehicles_available()"
   ]
  },
  {
   "cell_type": "code",
   "execution_count": 17,
   "id": "c24a1e43-c099-4a69-8492-21ad754ef57b",
   "metadata": {
    "tags": []
   },
   "outputs": [
    {
     "name": "stdin",
     "output_type": "stream",
     "text": [
      "Enter the vehicle brand you want to rent:  Audi\n"
     ]
    },
    {
     "name": "stdout",
     "output_type": "stream",
     "text": [
      "Vehicle is available to rent, please proceed to rent a vehicle.\n"
     ]
    }
   ],
   "source": [
    "rent_car.select_vehicle()"
   ]
  },
  {
   "cell_type": "code",
   "execution_count": 18,
   "id": "6d6ec8c1-f1da-4036-af8d-c0ffe4704488",
   "metadata": {
    "tags": []
   },
   "outputs": [
    {
     "name": "stdout",
     "output_type": "stream",
     "text": [
      "Vehicles are available in SUV, sedan, and hatchback segments.\n"
     ]
    },
    {
     "name": "stdin",
     "output_type": "stream",
     "text": [
      "Please enter the vehicle type you want to rent:  SUV\n"
     ]
    },
    {
     "data": {
      "text/plain": [
       "'The vehicle selected is Audi in SUV segment and rent is $50 plus $2/mile.'"
      ]
     },
     "execution_count": 18,
     "metadata": {},
     "output_type": "execute_result"
    }
   ],
   "source": [
    "rent_car.rent_cars()"
   ]
  },
  {
   "cell_type": "code",
   "execution_count": 19,
   "id": "b0b77b7a-d53f-467d-b1ac-3945413660cc",
   "metadata": {
    "tags": []
   },
   "outputs": [
    {
     "name": "stdout",
     "output_type": "stream",
     "text": [
      "You can return the vehicle.\n"
     ]
    }
   ],
   "source": [
    "rent_car.return_cars()"
   ]
  },
  {
   "cell_type": "markdown",
   "id": "27d76415-0c9a-4783-8753-d9213602270d",
   "metadata": {},
   "source": [
    "Problem 4: Library Catalog Create classes representing a library and a book. Implement methods to add books to the library, borrow books, and display available books."
   ]
  },
  {
   "cell_type": "code",
   "execution_count": 20,
   "id": "4a91b0f7-61d6-4f5d-a7cf-e56690f3913f",
   "metadata": {
    "tags": []
   },
   "outputs": [],
   "source": [
    "book_list = [\n",
    "                {\"lib_code\":\"001\", \n",
    "                 \"book_name\":\"Linear Algebra\", \n",
    "                 \"author\":\"Semur Lipschutz\",\n",
    "                 \"category\":\"Mathematics\"},\n",
    "    \n",
    "                {\"lib_code\":\"002\", \n",
    "                 \"book_name\":\"Abstract Algebra\", \n",
    "                 \"author\":\"I. N. Herstin\",\n",
    "                 \"category\":\"Mathematics\"},\n",
    "    \n",
    "                {\"lib_code\":\"003\", \n",
    "                 \"book_name\":\"Elements of Real Analysis\", \n",
    "                 \"author\":\"R. R. Goldberg\",\n",
    "                 \"category\":\"Mathematics\"},\n",
    "    \n",
    "                {\"lib_code\":\"004\", \n",
    "                 \"book_name\":\"Learning Python\", \n",
    "                 \"author\":\"Mark Lutz\",\n",
    "                 \"category\":\"Programming\"},\n",
    "    \n",
    "                {\"lib_code\":\"005\", \n",
    "                 \"book_name\":\"Fluent Python\", \n",
    "                 \"author\":\"Luciano Ramalho\",\n",
    "                 \"category\":\"Programming\"},\n",
    "    \n",
    "                {\"lib_code\":\"006\", \n",
    "                 \"book_name\":\"Fundamentals of Deep Learning\", \n",
    "                 \"author\":\"Nitin Buduma\",\n",
    "                 \"category\":\"Data Science\"},\n",
    "                \n",
    "                {\"lib_code\":\"007\", \n",
    "                 \"book_name\":\"Hands-On Machine Learning with Scikit-Learn, Keras, and TensorFlow\", \n",
    "                 \"author\":\"Aurelien Geron\",\n",
    "                 \"category\":\"Data Science\"},\n",
    "\n",
    "                {\"lib_code\":\"008\", \n",
    "                 \"book_name\":\"Designing Machine Learning Systems\", \n",
    "                 \"author\":\"Chip Huyen\",\n",
    "                 \"category\":\"Data Science\"}]"
   ]
  },
  {
   "cell_type": "code",
   "execution_count": 21,
   "id": "6eb9dfd4-be5f-4474-85d2-0d4bfe220c89",
   "metadata": {},
   "outputs": [],
   "source": [
    "class Library:\n",
    "    \n",
    "    def __init__(self, book_list):\n",
    "        self.book_list = book_list\n",
    "        \n",
    "    def add_book(self, lib_code, book_name, author, category):\n",
    "        try:\n",
    "            new_book = {\"lib_code\": lib_code, \"book_name\": book_name, \"author\": author, \"category\": category}\n",
    "            self.book_list.append(new_book)\n",
    "            print(f\"Book added successfully: {new_book}\")\n",
    "        except Exception as e:\n",
    "            print(f\"Error in adding new book: {str(e)}\")\n",
    "            \n",
    "    def borrow_book(self):\n",
    "        try:\n",
    "            input_book = input(\"Enter the book name\")\n",
    "            input_author = input(\"Enter the Author name of the book\")\n",
    "            \n",
    "            for book in self.book_list:\n",
    "                if book[\"book_name\"] == input_book and book[\"author\"] == input_author:\n",
    "                    print(\"The book you requested is available. Enter student id to borrow the book!\")\n",
    "                    input_student_id = input(\"Entered student id is: \")  # We can add functionality of verifying student id\n",
    "                    print(\"Congratulations, the book has been issued!\")\n",
    "                    self.book_list.remove(book)\n",
    "                    return\n",
    "            print(\"Sorry, the book you requested is not available.\")\n",
    "        except Exception as e:\n",
    "            print(f\"Error in borrowing book: {str(e)}\")\n",
    "            \n",
    "    def display_books(self):\n",
    "        try:\n",
    "            if len(self.book_list) != 0:\n",
    "                print(\"The books available are: \")\n",
    "                for book in self.book_list:\n",
    "                    print(book)\n",
    "            else:\n",
    "                print(\"No books are available currently, please try again later.\")\n",
    "        except Exception as e:\n",
    "            print(f\"Error in displaying books: {str(e)}\")"
   ]
  },
  {
   "cell_type": "code",
   "execution_count": 22,
   "id": "4f5980a2-78af-4de7-a35f-a3f6ff7c2eb2",
   "metadata": {
    "tags": []
   },
   "outputs": [],
   "source": [
    "library = Library(book_list)"
   ]
  },
  {
   "cell_type": "code",
   "execution_count": 23,
   "id": "9342ad1d-74d0-4e27-999f-5c538ceffe67",
   "metadata": {
    "tags": []
   },
   "outputs": [
    {
     "name": "stdout",
     "output_type": "stream",
     "text": [
      "The books available are: \n",
      "{'lib_code': '001', 'book_name': 'Linear Algebra', 'author': 'Semur Lipschutz', 'category': 'Mathematics'}\n",
      "{'lib_code': '002', 'book_name': 'Abstract Algebra', 'author': 'I. N. Herstin', 'category': 'Mathematics'}\n",
      "{'lib_code': '003', 'book_name': 'Elements of Real Analysis', 'author': 'R. R. Goldberg', 'category': 'Mathematics'}\n",
      "{'lib_code': '004', 'book_name': 'Learning Python', 'author': 'Mark Lutz', 'category': 'Programming'}\n",
      "{'lib_code': '005', 'book_name': 'Fluent Python', 'author': 'Luciano Ramalho', 'category': 'Programming'}\n",
      "{'lib_code': '006', 'book_name': 'Fundamentals of Deep Learning', 'author': 'Nitin Buduma', 'category': 'Data Science'}\n",
      "{'lib_code': '007', 'book_name': 'Hands-On Machine Learning with Scikit-Learn, Keras, and TensorFlow', 'author': 'Aurelien Geron', 'category': 'Data Science'}\n",
      "{'lib_code': '008', 'book_name': 'Designing Machine Learning Systems', 'author': 'Chip Huyen', 'category': 'Data Science'}\n"
     ]
    }
   ],
   "source": [
    "library.display_books()"
   ]
  },
  {
   "cell_type": "code",
   "execution_count": 24,
   "id": "7cb513bd-c66e-4ce9-a055-689b27be1047",
   "metadata": {
    "tags": []
   },
   "outputs": [
    {
     "name": "stdout",
     "output_type": "stream",
     "text": [
      "Book added successfully: {'lib_code': '009', 'book_name': 'Introduction to AI', 'author': 'Chandrashekhar Bagul', 'category': 'Artificial Intelligence'}\n",
      "Book added successfully: {'lib_code': '010', 'book_name': 'Data Structures and Algorithms', 'author': 'Ganesh Gunjal', 'category': 'Computer Science'}\n",
      "The books available are: \n",
      "{'lib_code': '001', 'book_name': 'Linear Algebra', 'author': 'Semur Lipschutz', 'category': 'Mathematics'}\n",
      "{'lib_code': '002', 'book_name': 'Abstract Algebra', 'author': 'I. N. Herstin', 'category': 'Mathematics'}\n",
      "{'lib_code': '003', 'book_name': 'Elements of Real Analysis', 'author': 'R. R. Goldberg', 'category': 'Mathematics'}\n",
      "{'lib_code': '004', 'book_name': 'Learning Python', 'author': 'Mark Lutz', 'category': 'Programming'}\n",
      "{'lib_code': '005', 'book_name': 'Fluent Python', 'author': 'Luciano Ramalho', 'category': 'Programming'}\n",
      "{'lib_code': '006', 'book_name': 'Fundamentals of Deep Learning', 'author': 'Nitin Buduma', 'category': 'Data Science'}\n",
      "{'lib_code': '007', 'book_name': 'Hands-On Machine Learning with Scikit-Learn, Keras, and TensorFlow', 'author': 'Aurelien Geron', 'category': 'Data Science'}\n",
      "{'lib_code': '008', 'book_name': 'Designing Machine Learning Systems', 'author': 'Chip Huyen', 'category': 'Data Science'}\n",
      "{'lib_code': '009', 'book_name': 'Introduction to AI', 'author': 'Chandrashekhar Bagul', 'category': 'Artificial Intelligence'}\n",
      "{'lib_code': '010', 'book_name': 'Data Structures and Algorithms', 'author': 'Ganesh Gunjal', 'category': 'Computer Science'}\n"
     ]
    }
   ],
   "source": [
    "library.add_book(\"009\", \"Introduction to AI\", \"Chandrashekhar Bagul\", \"Artificial Intelligence\")\n",
    "library.add_book(\"010\", \"Data Structures and Algorithms\", \"Ganesh Gunjal\", \"Computer Science\")\n",
    "\n",
    "library.display_books()"
   ]
  },
  {
   "cell_type": "code",
   "execution_count": 25,
   "id": "fb3f8f06-d67d-4908-a540-ed25b554cbce",
   "metadata": {},
   "outputs": [
    {
     "name": "stdin",
     "output_type": "stream",
     "text": [
      "Enter the book name Fundamentals of Deep Learning\n",
      "Enter the Author name of the book Nitin Buduma\n"
     ]
    },
    {
     "name": "stdout",
     "output_type": "stream",
     "text": [
      "The book you requested is available. Enter student id to borrow the book!\n"
     ]
    },
    {
     "name": "stdin",
     "output_type": "stream",
     "text": [
      "Entered student id is:  102\n"
     ]
    },
    {
     "name": "stdout",
     "output_type": "stream",
     "text": [
      "Congratulations, the book has been issued!\n"
     ]
    }
   ],
   "source": [
    "library.borrow_book()"
   ]
  },
  {
   "cell_type": "code",
   "execution_count": null,
   "id": "c0c8bfde-fb35-43d7-8148-3be0c596b64e",
   "metadata": {},
   "outputs": [],
   "source": [
    "library.borrow_book()"
   ]
  },
  {
   "cell_type": "markdown",
   "id": "e658e609-3e66-48cc-8149-fbbb2b1faf5f",
   "metadata": {},
   "source": [
    "Problem 5: Product Inventory Create classes representing a product and an inventory system. Implement methods to add products to the inventory, update product quantity, and display available products."
   ]
  },
  {
   "cell_type": "code",
   "execution_count": 3,
   "id": "2326c1f8-266c-4589-a48b-ea0ace2c5855",
   "metadata": {
    "tags": []
   },
   "outputs": [],
   "source": [
    "product_list = [\n",
    "                {\"product_name\": \"Native M1\", \n",
    "                 \"product_code\": \"101\", \n",
    "                 \"price\": \"$300\",\n",
    "                 \"category\": \"Water_Purifiers\",\n",
    "                 \"quantity\": \"20\"},\n",
    "    \n",
    "                {\"product_name\": \"Dell G15\", \n",
    "                 \"product_code\": \"102\", \n",
    "                 \"price\": \"$1000\",\n",
    "                 \"category\": \"Laptops\",\n",
    "                 \"quantity\": \"10\"},\n",
    "                     \n",
    "                {\"product_name\": \"Television\", \n",
    "                 \"product_code\": \"103\", \n",
    "                 \"price\": \"$700\",\n",
    "                 \"category\": \"Electronics\"}\n",
    "]"
   ]
  },
  {
   "cell_type": "code",
   "execution_count": 1,
   "id": "07e5e3ca-500e-4df7-a5dd-196f9ab20e1a",
   "metadata": {
    "tags": []
   },
   "outputs": [],
   "source": [
    "class InventoryManagement:\n",
    "    \n",
    "    def __init__(self, product_list):\n",
    "        self.product_list = product_list\n",
    "        \n",
    "    def add_product(self):\n",
    "        try:\n",
    "            input_product_name = input(\"Enter the product name to add the product\")\n",
    "            input_details = input(\"Enter product_code, price, category(without spaces), & quantity separated by spaces\")\n",
    "            input_product_code, input_price, input_category, input_quantity = input_details.split()\n",
    "            new_product = {\"product_name\": input_product_name, \"product_code\": input_product_code, \"price\": input_price, \n",
    "                           \"quantity\": input_quantity}\n",
    "            for product in self.product_list:\n",
    "                if product[\"product_code\"] == input_product_code:\n",
    "                    product[\"quantity\"] = str(int(product[\"quantity\"]) + int(new_product[\"quantity\"]))\n",
    "                    break\n",
    "            else:\n",
    "                self.product_list.append(new_product)\n",
    "                print(f\"Product added successfully: {new_product['product_name']} and the new quantity is {new_product['quantity']}\")\n",
    "        except Exception as e:\n",
    "            print(f\"Error in adding new product: {str(e)}\")\n",
    "            \n",
    "    def display_available_products(self):\n",
    "        try:\n",
    "            if len(self.product_list) != 0:\n",
    "                print(f\"The products available in the store are:\")\n",
    "                for product in product_list:  \n",
    "                    print(product)\n",
    "            else:\n",
    "                return \"Sorry, currently no products are available in the store\"\n",
    "        except Exception as e:\n",
    "            print(e)\n",
    "    \n",
    "    def sell_product(self):\n",
    "        input_product_name = input(\"Enter the name of product\")\n",
    "        input_product_code = input(\"Enter the product code\")\n",
    "        input_qty = int(input(\"Please enter the quantity you want to buy\"))\n",
    "        for product in self.product_list:\n",
    "            if product[\"product_name\"] == input_product_name and product[\"product_code\"] == input_product_code:\n",
    "                price = float(product[\"price\"].strip('$'))\n",
    "                amount = round(input_qty * price, 2)\n",
    "                print(f\"The product {input_product_name} is available with price ${price}\")\n",
    "                print(f\"The total amount is {amount}\")\n",
    "                input_amount = float(input(f\"Please pay ${amount} to purchase the product\"))\n",
    "                if input_amount == amount:\n",
    "                    print(\"Thank you for the purchase!!\")\n",
    "                    product['quantity'] = int(product['quantity']) - input_qty\n",
    "                else:\n",
    "                    print(\"Please enter the correct amount to purchase the product\")\n",
    "                break\n",
    "        else:\n",
    "            return f\"Sorry, the product '{input_product_name}' is not available currently\""
   ]
  },
  {
   "cell_type": "code",
   "execution_count": 5,
   "id": "688186d2-2bf2-4ac2-93eb-e50f10e2a9b5",
   "metadata": {
    "tags": []
   },
   "outputs": [],
   "source": [
    "invt = InventoryManagement(product_list)"
   ]
  },
  {
   "cell_type": "code",
   "execution_count": 6,
   "id": "9e54e768-1484-4321-aa4f-3441d6128f61",
   "metadata": {
    "tags": []
   },
   "outputs": [
    {
     "name": "stdin",
     "output_type": "stream",
     "text": [
      "Enter the product name to add the product Acer Monitor\n",
      "Enter product_code, price, category(without spaces), & quantity separated by spaces 104 200 Electronics 5\n"
     ]
    },
    {
     "name": "stdout",
     "output_type": "stream",
     "text": [
      "Product added successfully: Acer Monitor and the new quantity is 5\n"
     ]
    }
   ],
   "source": [
    "invt.add_product()"
   ]
  },
  {
   "cell_type": "code",
   "execution_count": 7,
   "id": "e3860ca7-80ef-4112-9c81-7d9494d9eadf",
   "metadata": {
    "tags": []
   },
   "outputs": [
    {
     "name": "stdout",
     "output_type": "stream",
     "text": [
      "The products available in the store are:\n",
      "{'product_name': 'Native M1', 'product_code': '101', 'price': '$300', 'category': 'Water_Purifiers', 'quantity': '20'}\n",
      "{'product_name': 'Dell G15', 'product_code': '102', 'price': '$1000', 'category': 'Laptops', 'quantity': '10'}\n",
      "{'product_name': 'Television', 'product_code': '103', 'price': '$700', 'category': 'Electronics'}\n",
      "{'product_name': 'Acer Monitor', 'product_code': '104', 'price': '200', 'quantity': '5'}\n"
     ]
    }
   ],
   "source": [
    "invt.display_available_products()"
   ]
  },
  {
   "cell_type": "code",
   "execution_count": 8,
   "id": "07f01323-ae43-4065-8103-9d812a34f431",
   "metadata": {
    "tags": []
   },
   "outputs": [
    {
     "name": "stdin",
     "output_type": "stream",
     "text": [
      "Enter the name of product Dell G15\n",
      "Enter the product code 102\n",
      "Please enter the quantity you want to buy 2\n"
     ]
    },
    {
     "name": "stdout",
     "output_type": "stream",
     "text": [
      "The product Dell G15 is available with price $1000.0\n",
      "The total amount is 2000.0\n"
     ]
    },
    {
     "name": "stdin",
     "output_type": "stream",
     "text": [
      "Please pay $2000.0 to purchase the product 2000\n"
     ]
    },
    {
     "name": "stdout",
     "output_type": "stream",
     "text": [
      "Thank you for the purchase!!\n"
     ]
    }
   ],
   "source": [
    "invt.sell_product()"
   ]
  },
  {
   "cell_type": "markdown",
   "id": "d5af721b-7dab-4b7e-910a-9256fb9e1aff",
   "metadata": {},
   "source": [
    "Problem 6: Shape Calculation Create a class representing a shape with attributes like length, width, and height. Implement methods to calculate the area and perimeter of the shape."
   ]
  },
  {
   "cell_type": "code",
   "execution_count": 14,
   "id": "a278f1a5-f581-4e94-bf9b-62b7b3aab6d6",
   "metadata": {
    "tags": []
   },
   "outputs": [],
   "source": [
    "class Dimensions:\n",
    "\n",
    "    def calculate_area(self):\n",
    "        input_figure_name = input(\"Enter the figure name to calculate area and perimeter: \")\n",
    "        input_figure_name = input_figure_name.lower()\n",
    "\n",
    "        try:\n",
    "            if input_figure_name == 'triangle':\n",
    "                input_options = int(input(\"Choose an option:\\n1. Enter base and height\\n2. Enter sides\\n\"))\n",
    "                \n",
    "                if input_options == 1:\n",
    "                    input_dim = input(\"Enter the base and height of triangle separated by spaces respectively: \")\n",
    "                    base, height = map(float, input_dim.split())\n",
    "                    area_triangle1 = 0.5 * base * height\n",
    "                    print(f\"The area of the triangle is: {area_triangle1}\")\n",
    "                \n",
    "                elif input_options == 2:\n",
    "                    input_sides = input(\"Enter the sides of triangle separated by spaces: \")\n",
    "                    side_a, side_b, side_c = map(float, input_sides.split())\n",
    "                    s = (side_a + side_b + side_c) / 2\n",
    "                    area_triangle2 = (s * (s - side_a) * (s - side_b) * (s - side_c)) ** 0.5\n",
    "                    perimeter_triangle = side_a + side_b + side_c\n",
    "                    print(f\"The area of the triangle is: {area_triangle2}\")\n",
    "                    print(f\"The perimeter of given triangle is: {perimeter_triangle}\")\n",
    "                \n",
    "                else:\n",
    "                    print(\"Invalid option. Please choose either 1 or 2.\")\n",
    "\n",
    "            elif input_figure_name == 'rectangle':\n",
    "                length = float(input(\"Enter the length of rectangle: \"))\n",
    "                breadth = float(input(\"Enter the breadth of rectangle: \"))\n",
    "                area_rectangle = length * breadth\n",
    "                perimeter_rectangle = 2 * (length + breadth)\n",
    "                print(f\"The area of the rectangle is: {area_rectangle}\")\n",
    "                print(f\"The perimeter of the rectangle is: {perimeter_rectangle}\")\n",
    "\n",
    "            elif input_figure_name == 'square':\n",
    "                side = float(input(\"Enter the side of the square: \"))\n",
    "                area_square = side ** 2\n",
    "                perimeter_square = 4 * side\n",
    "                print(f\"Area of the square is: {area_square}\")\n",
    "                print(f\"Perimeter of the square is: {perimeter_square}\")\n",
    "\n",
    "            elif input_figure_name == 'rhombus':\n",
    "                input_options = int(input(\"Choose an option:\\n1. Enter diagonals and height\\n2. Enter side and angle between any two sides of rhombus\\n\"))\n",
    "\n",
    "                if input_options == 1:\n",
    "                    input_diag = input(\"Enter the lengths of diagonals separated by spaces: \")\n",
    "                    d1, d2 = map(float, input_diag.split())\n",
    "                    area_rhombus1 = np.round(((1/2) * d1 * d2), 2)\n",
    "                    print(f\"Area of the rhombus is: {area_rhombus1}\")\n",
    "\n",
    "                elif input_options == 2:\n",
    "                    input_side = float(input(\"Enter the side of the rhombus: \"))\n",
    "                    input_angle = float(input(\"Enter the angle between any two sides of the rhombus in degrees: \"))\n",
    "                    area_rhombus2 = np.round((input_side ** 2) * (math.sin(math.radians(input_angle))), 2)\n",
    "                    perimeter_rhombus = 4 * input_side\n",
    "                    print(f\"The perimeter of rhombus having side {input_side} is {perimeter_rhombus}\")\n",
    "                    print(f\"Area of the rhombus is: {area_rhombus2}\")\n",
    "\n",
    "            elif input_figure_name == 'circle':\n",
    "                input_radius = float(input(\"Enter radius of the circle: \"))\n",
    "                area_circle = np.round((math.pi * input_radius ** 2), 2)\n",
    "                print(f\"Area of the circle: {area_circle}\")\n",
    "\n",
    "            else:\n",
    "                print(\"Enter the appropriate name of the figure\")\n",
    "\n",
    "        except Exception as e:\n",
    "            print(e)"
   ]
  },
  {
   "cell_type": "code",
   "execution_count": 15,
   "id": "3c509bcc-67f9-46b5-b9df-f4aff5167491",
   "metadata": {
    "tags": []
   },
   "outputs": [],
   "source": [
    "dimensions = Dimensions()"
   ]
  },
  {
   "cell_type": "code",
   "execution_count": 17,
   "id": "b2bc3766-7a2e-4385-a700-3c9b7c050a59",
   "metadata": {
    "tags": []
   },
   "outputs": [
    {
     "name": "stdin",
     "output_type": "stream",
     "text": [
      "Enter the figure name to calculate area and perimeter:  triangle\n",
      "Choose an option:\n",
      "1. Enter base and height\n",
      "2. Enter sides\n",
      " 2\n",
      "Enter the sides of triangle separated by spaces:  3 4 5\n"
     ]
    },
    {
     "name": "stdout",
     "output_type": "stream",
     "text": [
      "The area of the triangle is: 6.0\n",
      "The perimeter of given triangle is: 12.0\n"
     ]
    }
   ],
   "source": [
    "dimensions.calculate_area()"
   ]
  },
  {
   "cell_type": "markdown",
   "id": "e8c4f35d-80fa-42da-a0f4-93c43474f668",
   "metadata": {},
   "source": [
    "Problem 7: Student Management Create a class representing a student with attributes like student ID, name, and grades. Implement methods to calculate the average grade and display student details."
   ]
  },
  {
   "cell_type": "code",
   "execution_count": 24,
   "id": "ef5dc8ed-6729-4ab3-b1e5-eb64bb42a09f",
   "metadata": {},
   "outputs": [],
   "source": [
    "students_list = []\n",
    "class Student:\n",
    "\n",
    "    def __init__(self, students_list):\n",
    "        self.students_list = students_list\n",
    "\n",
    "    def add_student(self):\n",
    "        input_student_name = input(\"Enter the student name: \")\n",
    "        student_info = input(\"Enter the student_id, percent_marks, standard of the student separated by spaces: \")\n",
    "        input_student_id, input_percent_marks, input_standard = student_info.split()\n",
    "        percent_marks = float(input_percent_marks) \n",
    "        new_student = {\"student_name\": input_student_name, \"student_id\": input_student_id,\n",
    "                       \"percent_marks\": percent_marks, \"standard\": input_standard}\n",
    "        self.students_list.append(new_student)\n",
    "        print(f\"Student added successfully: {new_student['student_name']} and the previous year percent is {new_student['percent_marks']}\")\n",
    "\n",
    "    def display_enrolled_students(self):\n",
    "        try:\n",
    "            if len(self.students_list) != 0: \n",
    "                return f\"The students enrolled in the school are: {[student['student_name'] for student in self.students_list]}\"\n",
    "            else:\n",
    "                return \"Sorry, no students are enrolled in the school\"\n",
    "        except Exception as e:\n",
    "            print(e)\n",
    "\n",
    "    def display_student_info(self):\n",
    "        admin_pass = \"xyzschool@123\"\n",
    "        admin_login = input(\"Enter the admin password to display student info: \")\n",
    "        if admin_login == admin_pass:\n",
    "            input_student_name = input(\"Enter the name of student to display the information: \")\n",
    "            input_st_id = input(\"Enter student id: \")\n",
    "            for student in self.students_list: \n",
    "                if student[\"student_name\"] == input_student_name and student[\"student_id\"] == input_st_id:\n",
    "                    student_info = {\n",
    "                        \"student_name\": student[\"student_name\"],\n",
    "                        \"student_id\": student[\"student_id\"],\n",
    "                        \"standard\": student[\"standard\"],\n",
    "                        \"percent_marks\": student[\"percent_marks\"],\n",
    "                        \"student_grade\": self.calculate_grade(student[\"percent_marks\"])   # calling calculate_grade function\n",
    "                    }\n",
    "                    return f\"The details of the student are: {student_info}\"\n",
    "            return \"Please enter the correct student name and id\"\n",
    "        else:\n",
    "            return \"Enter valid admin password to see student details\"\n",
    "\n",
    "    def calculate_grade(self, percent_marks):\n",
    "        grade_mapping = {\n",
    "            (90, 100): 'A',\n",
    "            (80, 89): 'B',\n",
    "            (70, 79): 'C',\n",
    "            (60, 69): 'D',\n",
    "            (35, 59): 'E',\n",
    "            (0, 34): 'F'\n",
    "        }\n",
    "        percent_marks = float(percent_marks)\n",
    "        for score_range, grade in grade_mapping.items():\n",
    "            lower_bound, upper_bound = score_range\n",
    "            if lower_bound <= percent_marks <= upper_bound:\n",
    "                return grade\n",
    "        return \"Invalid score. Please enter a score between 0 and 100.\""
   ]
  },
  {
   "cell_type": "code",
   "execution_count": 25,
   "id": "685259dc-2ccf-4d56-a8cc-8bed2ef50fd5",
   "metadata": {},
   "outputs": [],
   "source": [
    "student_info = Student(students_list)"
   ]
  },
  {
   "cell_type": "code",
   "execution_count": 26,
   "id": "672cc355-e3b9-4c1b-8f51-868af97f5105",
   "metadata": {
    "tags": []
   },
   "outputs": [
    {
     "name": "stdin",
     "output_type": "stream",
     "text": [
      "Enter the student name:  Kartiki Bagul\n",
      "Enter the student_id, percent_marks, standard of the student separated by spaces:  S11 95 10\n"
     ]
    },
    {
     "name": "stdout",
     "output_type": "stream",
     "text": [
      "Student added successfully: Kartiki Bagul and the previous year percent is 95.0\n"
     ]
    }
   ],
   "source": [
    "student_info.add_student()"
   ]
  },
  {
   "cell_type": "code",
   "execution_count": 27,
   "id": "12e30023-3fb3-4d60-b5b1-cf6b41faff77",
   "metadata": {},
   "outputs": [
    {
     "name": "stdin",
     "output_type": "stream",
     "text": [
      "Enter the student name:  Payal Narkhede\n",
      "Enter the student_id, percent_marks, standard of the student separated by spaces:  S12 97 10\n"
     ]
    },
    {
     "name": "stdout",
     "output_type": "stream",
     "text": [
      "Student added successfully: Payal Narkhede and the previous year percent is 97.0\n"
     ]
    }
   ],
   "source": [
    "student_info.add_student()"
   ]
  },
  {
   "cell_type": "code",
   "execution_count": 28,
   "id": "2a9759cc-9cc5-4d16-8532-4a4baae83479",
   "metadata": {},
   "outputs": [
    {
     "data": {
      "text/plain": [
       "\"The students enrolled in the school are: ['Kartiki Bagul', 'Payal Narkhede']\""
      ]
     },
     "execution_count": 28,
     "metadata": {},
     "output_type": "execute_result"
    }
   ],
   "source": [
    "student_info.display_enrolled_students()"
   ]
  },
  {
   "cell_type": "code",
   "execution_count": 29,
   "id": "67c32d6f-954a-4796-9ba9-c12b8cc7bfaf",
   "metadata": {},
   "outputs": [
    {
     "name": "stdin",
     "output_type": "stream",
     "text": [
      "Enter the admin password to display student info:  xyzschool@123\n",
      "Enter the name of student to display the information:  Payal Narkhede\n",
      "Enter student id:  S12\n"
     ]
    },
    {
     "data": {
      "text/plain": [
       "\"The details of the student are: {'student_name': 'Payal Narkhede', 'student_id': 'S12', 'standard': '10', 'percent_marks': 97.0, 'student_grade': 'A'}\""
      ]
     },
     "execution_count": 29,
     "metadata": {},
     "output_type": "execute_result"
    }
   ],
   "source": [
    "student_info.display_student_info()"
   ]
  },
  {
   "cell_type": "code",
   "execution_count": 30,
   "id": "b9b60c1a-9bcc-4c18-84a9-bf4360d7d8d0",
   "metadata": {},
   "outputs": [
    {
     "name": "stdin",
     "output_type": "stream",
     "text": [
      "Enter the admin password to display student info:  school@123\n"
     ]
    },
    {
     "data": {
      "text/plain": [
       "'Enter valid admin password to see student details'"
      ]
     },
     "execution_count": 30,
     "metadata": {},
     "output_type": "execute_result"
    }
   ],
   "source": [
    "student_info.display_student_info()"
   ]
  },
  {
   "cell_type": "markdown",
   "id": "4825735e-9523-4a26-97da-94dd23c7deee",
   "metadata": {},
   "source": [
    "Problem 8: Email Management Create a class representing an email with attributes like sender, recipient, and subject. Implement methods to send an email and display email details."
   ]
  },
  {
   "cell_type": "code",
   "execution_count": 9,
   "id": "2aebbc8b-04c3-48dc-a5d9-2022dd332054",
   "metadata": {},
   "outputs": [],
   "source": [
    "class Email:\n",
    "    \n",
    "    def __init__(self, sender, recipient, subject):\n",
    "        self.sender = sender\n",
    "        self.recipient = recipient\n",
    "        self.subject = subject\n",
    "        self.is_sent = False\n",
    "        self.sent_time = None  # Initialize sent_time as None\n",
    "\n",
    "    def send_email(self):\n",
    "        # Simulating the process of sending an email (needs email server)\n",
    "        print(f\"Email sent from {self.sender} to {self.recipient} with subject: {self.subject}\")\n",
    "        self.is_sent = True\n",
    "        self.sent_time = datetime.now()  # Record the time when the email is sent\n",
    "\n",
    "    def display_email_details(self):\n",
    "        if self.is_sent:\n",
    "            print(\"Email Details:\")\n",
    "            print(f\"Sender: {self.sender}\")\n",
    "            print(f\"Recipient: {self.recipient}\")\n",
    "            print(f\"Subject: {self.subject}\")\n",
    "            print(f\"Date & Time: {self.sent_time}\")\n",
    "            print(\"Status: Sent\")\n",
    "        else:\n",
    "            print(\"Email has not been sent yet. Use the 'send_email' method to send it.\")"
   ]
  },
  {
   "cell_type": "code",
   "execution_count": 10,
   "id": "11b61b5d-1954-4723-9ded-37c2f5487cbb",
   "metadata": {
    "tags": []
   },
   "outputs": [],
   "source": [
    "email = Email(\"Vaishali\", \"Chandrashekhar\",\"Joining the office\")"
   ]
  },
  {
   "cell_type": "code",
   "execution_count": 11,
   "id": "033edfa9-9a49-48a8-88f2-039d750bb9ce",
   "metadata": {
    "tags": []
   },
   "outputs": [
    {
     "name": "stdout",
     "output_type": "stream",
     "text": [
      "Email has not been sent yet. Use the 'send_email' method to send it.\n"
     ]
    }
   ],
   "source": [
    "email.display_email_details()"
   ]
  },
  {
   "cell_type": "code",
   "execution_count": 12,
   "id": "8d67582c-fed6-4dba-8465-6f8bdcbbb8a1",
   "metadata": {
    "tags": []
   },
   "outputs": [
    {
     "name": "stdout",
     "output_type": "stream",
     "text": [
      "Email sent from Vaishali to Chandrashekhar with subject: Joining the office\n"
     ]
    }
   ],
   "source": [
    "email.send_email()"
   ]
  },
  {
   "cell_type": "code",
   "execution_count": 13,
   "id": "f9d319a5-0707-41e3-b2b8-7a0606972658",
   "metadata": {
    "tags": []
   },
   "outputs": [
    {
     "name": "stdout",
     "output_type": "stream",
     "text": [
      "Email Details:\n",
      "Sender: Vaishali\n",
      "Recipient: Chandrashekhar\n",
      "Subject: Joining the office\n",
      "Date & Time: 2024-02-03 22:26:21.764828\n",
      "Status: Sent\n"
     ]
    }
   ],
   "source": [
    "email.display_email_details()"
   ]
  },
  {
   "cell_type": "markdown",
   "id": "fe90d8cf-a467-49d9-a102-a0b80c1f3c3c",
   "metadata": {},
   "source": [
    "Problem 9: Social Media Profile Create a class representing a social media profile with attributes like username and posts. Implement methods to add posts, display posts, and search for posts by keyword."
   ]
  },
  {
   "cell_type": "code",
   "execution_count": 4,
   "id": "7797fa01-c07c-48e8-be1d-561afaf110b0",
   "metadata": {},
   "outputs": [],
   "source": [
    "class SocialMediaProfile:\n",
    "    def __init__(self, username):\n",
    "        self.username = username\n",
    "        self.posts = []\n",
    "\n",
    "    def add_post(self, content):\n",
    "        post = {\"content\": content, \"author\": self.username}\n",
    "        self.posts.append(post)\n",
    "\n",
    "    def display_posts(self):\n",
    "        if not self.posts:\n",
    "            print(\"No posts available.\")\n",
    "        else:\n",
    "            print(f\"Posts by {self.username}:\")\n",
    "            for i, post in enumerate(self.posts, start=1):\n",
    "                print(f\"{i}. {post['content']} - by {post['author']}\")\n",
    "\n",
    "    def search_posts(self, keyword):\n",
    "        matching_posts = [post for post in self.posts if keyword.lower() in post['content'].lower()]\n",
    "        if not matching_posts:\n",
    "            print(f\"No posts found containing the keyword '{keyword}'.\")\n",
    "        else:\n",
    "            print(f\"Posts containing the keyword '{keyword}':\")\n",
    "            for i, post in enumerate(matching_posts, start=1):\n",
    "                print(f\"{i}. {post['content']} - by {post['author']}\")"
   ]
  },
  {
   "cell_type": "code",
   "execution_count": 5,
   "id": "e6f96772-f69d-4535-aa2f-6834ea4e418e",
   "metadata": {},
   "outputs": [
    {
     "name": "stdout",
     "output_type": "stream",
     "text": [
      "Posts by ChandrshekharBagul:\n",
      "1. Enjoying a sunny day at the beach! - by ChandrshekharBagul\n",
      "2. Just finished reading a great book. - by ChandrshekharBagul\n",
      "3. Coding all night to meet the project deadline. - by ChandrshekharBagul\n",
      "Posts containing the keyword 'coding':\n",
      "1. Coding all night to meet the project deadline. - by ChandrshekharBagul\n"
     ]
    }
   ],
   "source": [
    "if __name__ == \"__main__\":\n",
    "    profile = SocialMediaProfile(\"ChandrshekharBagul\")\n",
    "\n",
    "    profile.add_post(\"Enjoying a sunny day at the beach!\")\n",
    "    profile.add_post(\"Just finished reading a great book.\")\n",
    "    profile.add_post(\"Coding all night to meet the project deadline.\")\n",
    "\n",
    "    profile.display_posts()\n",
    "\n",
    "    keyword_to_search = \"coding\"\n",
    "    profile.search_posts(keyword_to_search)"
   ]
  },
  {
   "cell_type": "markdown",
   "id": "fbeb596a-39ed-485e-a7d0-bd103026ea9e",
   "metadata": {},
   "source": [
    "Problem 10: ToDo List Create a class representing a ToDo list with attributes like tasks and due dates. Implement methods to add tasks, mark tasks as completed, and display pending tasks."
   ]
  },
  {
   "cell_type": "code",
   "execution_count": 6,
   "id": "9d1d0cee-41ad-4371-8f36-4027e45862d0",
   "metadata": {
    "tags": []
   },
   "outputs": [],
   "source": [
    "class ToDoList:\n",
    "    def __init__(self):\n",
    "        self.tasks = []\n",
    "\n",
    "    def add_task(self, task, due_date):\n",
    "        task_info = {\"task\": task, \"due_date\": due_date, \"completed\": False}\n",
    "        self.tasks.append(task_info)\n",
    "\n",
    "    def mark_task_completed(self, task_index):\n",
    "        if 0 <= task_index < len(self.tasks):\n",
    "            self.tasks[task_index][\"completed\"] = True\n",
    "            print(f\"Task '{self.tasks[task_index]['task']}' marked as completed.\")\n",
    "        else:\n",
    "            print(\"Invalid task index.\")\n",
    "\n",
    "    def display_pending_tasks(self):\n",
    "        pending_tasks = [task for task in self.tasks if not task[\"completed\"]]\n",
    "        if not pending_tasks:\n",
    "            print(\"No pending tasks.\")\n",
    "        else:\n",
    "            print(\"Pending tasks:\")\n",
    "            for i, task in enumerate(pending_tasks, start=1):\n",
    "                print(f\"{i}. {task['task']} - Due on {task['due_date']}\")"
   ]
  },
  {
   "cell_type": "code",
   "execution_count": 7,
   "id": "5c6b35b0-ff8a-4710-ba97-78aaea52832c",
   "metadata": {
    "tags": []
   },
   "outputs": [
    {
     "name": "stdout",
     "output_type": "stream",
     "text": [
      "Pending tasks:\n",
      "1. Complete project report - Due on 2024-02-15\n",
      "2. Buy groceries - Due on 2024-02-10\n",
      "3. Exercise for 30 minutes - Due on 2024-02-20\n",
      "Task 'Buy groceries' marked as completed.\n",
      "Pending tasks:\n",
      "1. Complete project report - Due on 2024-02-15\n",
      "2. Exercise for 30 minutes - Due on 2024-02-20\n"
     ]
    }
   ],
   "source": [
    "if __name__ == \"__main__\":\n",
    "    todo_list = ToDoList()\n",
    "\n",
    "    todo_list.add_task(\"Complete project report\", \"2024-02-15\")\n",
    "    todo_list.add_task(\"Buy groceries\", \"2024-02-10\")\n",
    "    todo_list.add_task(\"Exercise for 30 minutes\", \"2024-02-20\")\n",
    "\n",
    "    todo_list.display_pending_tasks()\n",
    "\n",
    "    task_to_mark_completed = 1\n",
    "    todo_list.mark_task_completed(task_to_mark_completed)\n",
    "\n",
    "    todo_list.display_pending_tasks()"
   ]
  },
  {
   "cell_type": "code",
   "execution_count": null,
   "id": "d472b36c-c8d3-492c-9c33-5c99b6187010",
   "metadata": {},
   "outputs": [],
   "source": []
  }
 ],
 "metadata": {
  "kernelspec": {
   "display_name": "Python 3 (ipykernel)",
   "language": "python",
   "name": "python3"
  },
  "language_info": {
   "codemirror_mode": {
    "name": "ipython",
    "version": 3
   },
   "file_extension": ".py",
   "mimetype": "text/x-python",
   "name": "python",
   "nbconvert_exporter": "python",
   "pygments_lexer": "ipython3",
   "version": "3.11.5"
  }
 },
 "nbformat": 4,
 "nbformat_minor": 5
}
